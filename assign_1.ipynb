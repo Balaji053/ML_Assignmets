{
 "cells": [
  {
   "cell_type": "code",
   "execution_count": null,
   "id": "57b256de",
   "metadata": {},
   "outputs": [
    {
     "name": "stdout",
     "output_type": "stream",
     "text": [
      "5 * 1 = 5\n",
      "5 * 2 = 10\n",
      "5 * 3 = 15\n",
      "5 * 4 = 20\n",
      "5 * 5 = 25\n",
      "5 * 6 = 30\n",
      "5 * 7 = 35\n",
      "5 * 8 = 40\n",
      "5 * 9 = 45\n",
      "5 * 10 = 50\n"
     ]
    }
   ],
   "source": [
    "'''Write a function that inputs a number and prints the multiplication table of that number'''\n",
    "\n",
    "def print_multiplication_table(n):\n",
    "    for i in range(1,11):\n",
    "        print(f\"{n} * {i} = {n * i}\")\n",
    "        \n",
    "if __name__ == \"__main__\":\n",
    "    n = int(input(\"Enter a number:\"))\n",
    "    print_multiplication_table(n)\n",
    "    "
   ]
  },
  {
   "cell_type": "code",
   "execution_count": 5,
   "id": "5ef52121",
   "metadata": {},
   "outputs": [
    {
     "name": "stdout",
     "output_type": "stream",
     "text": [
      "(3, 5)\n",
      "(5, 7)\n",
      "(11, 13)\n",
      "(17, 19)\n",
      "(29, 31)\n",
      "(41, 43)\n",
      "(59, 61)\n",
      "(71, 73)\n",
      "(101, 103)\n",
      "(107, 109)\n",
      "(137, 139)\n",
      "(149, 151)\n",
      "(179, 181)\n",
      "(191, 193)\n",
      "(197, 199)\n",
      "(227, 229)\n",
      "(239, 241)\n",
      "(269, 271)\n",
      "(281, 283)\n",
      "(311, 313)\n",
      "(347, 349)\n",
      "(419, 421)\n",
      "(431, 433)\n",
      "(461, 463)\n",
      "(521, 523)\n",
      "(569, 571)\n",
      "(599, 601)\n",
      "(617, 619)\n",
      "(641, 643)\n",
      "(659, 661)\n",
      "(809, 811)\n",
      "(821, 823)\n",
      "(827, 829)\n",
      "(857, 859)\n",
      "(881, 883)\n"
     ]
    }
   ],
   "source": [
    "''' Write a program to print twin primes less than n(<1000). If two consecutive odd numbers are \n",
    "    both prime then they are known as twin primes '''\n",
    "\n",
    "def is_prime(n):\n",
    "    if n<=1:\n",
    "        return False\n",
    "    i = 2\n",
    "    while i <= n**0.5:\n",
    "        if n % i == 0:\n",
    "            return False\n",
    "        i += 1\n",
    "    else:\n",
    "        return True\n",
    "\n",
    "def print_twin_primes(n):\n",
    "    p = 3\n",
    "    while p < n:\n",
    "        if is_prime(p) and is_prime(p+2):\n",
    "            print(tuple([p,p+2]))\n",
    "        p += 2\n",
    "    \n",
    "if __name__ == \"__main__\":\n",
    "    n = int(input(\"Enter a number:\"))\n",
    "    print_twin_primes(n)"
   ]
  },
  {
   "cell_type": "code",
   "execution_count": null,
   "id": "1eeb33d5",
   "metadata": {},
   "outputs": [],
   "source": []
  }
 ],
 "metadata": {
  "kernelspec": {
   "display_name": "base",
   "language": "python",
   "name": "python3"
  },
  "language_info": {
   "codemirror_mode": {
    "name": "ipython",
    "version": 3
   },
   "file_extension": ".py",
   "mimetype": "text/x-python",
   "name": "python",
   "nbconvert_exporter": "python",
   "pygments_lexer": "ipython3",
   "version": "3.11.8"
  }
 },
 "nbformat": 4,
 "nbformat_minor": 5
}
