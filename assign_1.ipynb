{
 "cells": [
  {
   "cell_type": "markdown",
   "id": "2ea559ff",
   "metadata": {},
   "source": [
    "**Pyton Practice Questions**"
   ]
  },
  {
   "cell_type": "code",
   "execution_count": 1,
   "id": "57b256de",
   "metadata": {},
   "outputs": [
    {
     "name": "stdout",
     "output_type": "stream",
     "text": [
      "10 * 1 = 10\n",
      "10 * 2 = 20\n",
      "10 * 3 = 30\n",
      "10 * 4 = 40\n",
      "10 * 5 = 50\n",
      "10 * 6 = 60\n",
      "10 * 7 = 70\n",
      "10 * 8 = 80\n",
      "10 * 9 = 90\n",
      "10 * 10 = 100\n"
     ]
    }
   ],
   "source": [
    "'''Write a function that inputs a number and prints the multiplication table of that number'''\n",
    "\n",
    "def print_multiplication_table(n):\n",
    "    for i in range(1,11):\n",
    "        print(f\"{n} * {i} = {n * i}\")\n",
    "        \n",
    "if __name__ == \"__main__\":\n",
    "    n = int(input(\"Enter a number:\"))\n",
    "    print_multiplication_table(n)\n",
    "    "
   ]
  },
  {
   "cell_type": "code",
   "execution_count": 2,
   "id": "5ef52121",
   "metadata": {},
   "outputs": [
    {
     "ename": "KeyboardInterrupt",
     "evalue": "Interrupted by user",
     "output_type": "error",
     "traceback": [
      "\u001b[1;31m---------------------------------------------------------------------------\u001b[0m",
      "\u001b[1;31mKeyboardInterrupt\u001b[0m                         Traceback (most recent call last)",
      "Cell \u001b[1;32mIn[2], line 23\u001b[0m\n\u001b[0;32m     20\u001b[0m         p \u001b[38;5;241m+\u001b[39m\u001b[38;5;241m=\u001b[39m \u001b[38;5;241m2\u001b[39m\n\u001b[0;32m     22\u001b[0m \u001b[38;5;28;01mif\u001b[39;00m \u001b[38;5;18m__name__\u001b[39m \u001b[38;5;241m==\u001b[39m \u001b[38;5;124m\"\u001b[39m\u001b[38;5;124m__main__\u001b[39m\u001b[38;5;124m\"\u001b[39m:\n\u001b[1;32m---> 23\u001b[0m     n \u001b[38;5;241m=\u001b[39m \u001b[38;5;28mint\u001b[39m(\u001b[38;5;28minput\u001b[39m(\u001b[38;5;124m\"\u001b[39m\u001b[38;5;124mEnter a number:\u001b[39m\u001b[38;5;124m\"\u001b[39m))\n\u001b[0;32m     24\u001b[0m     print_twin_primes(n)\n",
      "File \u001b[1;32mc:\\Users\\balaj\\Anaconda3\\Lib\\site-packages\\ipykernel\\kernelbase.py:1262\u001b[0m, in \u001b[0;36mKernel.raw_input\u001b[1;34m(self, prompt)\u001b[0m\n\u001b[0;32m   1260\u001b[0m     msg \u001b[38;5;241m=\u001b[39m \u001b[38;5;124m\"\u001b[39m\u001b[38;5;124mraw_input was called, but this frontend does not support input requests.\u001b[39m\u001b[38;5;124m\"\u001b[39m\n\u001b[0;32m   1261\u001b[0m     \u001b[38;5;28;01mraise\u001b[39;00m StdinNotImplementedError(msg)\n\u001b[1;32m-> 1262\u001b[0m \u001b[38;5;28;01mreturn\u001b[39;00m \u001b[38;5;28mself\u001b[39m\u001b[38;5;241m.\u001b[39m_input_request(\n\u001b[0;32m   1263\u001b[0m     \u001b[38;5;28mstr\u001b[39m(prompt),\n\u001b[0;32m   1264\u001b[0m     \u001b[38;5;28mself\u001b[39m\u001b[38;5;241m.\u001b[39m_parent_ident[\u001b[38;5;124m\"\u001b[39m\u001b[38;5;124mshell\u001b[39m\u001b[38;5;124m\"\u001b[39m],\n\u001b[0;32m   1265\u001b[0m     \u001b[38;5;28mself\u001b[39m\u001b[38;5;241m.\u001b[39mget_parent(\u001b[38;5;124m\"\u001b[39m\u001b[38;5;124mshell\u001b[39m\u001b[38;5;124m\"\u001b[39m),\n\u001b[0;32m   1266\u001b[0m     password\u001b[38;5;241m=\u001b[39m\u001b[38;5;28;01mFalse\u001b[39;00m,\n\u001b[0;32m   1267\u001b[0m )\n",
      "File \u001b[1;32mc:\\Users\\balaj\\Anaconda3\\Lib\\site-packages\\ipykernel\\kernelbase.py:1305\u001b[0m, in \u001b[0;36mKernel._input_request\u001b[1;34m(self, prompt, ident, parent, password)\u001b[0m\n\u001b[0;32m   1302\u001b[0m \u001b[38;5;28;01mexcept\u001b[39;00m \u001b[38;5;167;01mKeyboardInterrupt\u001b[39;00m:\n\u001b[0;32m   1303\u001b[0m     \u001b[38;5;66;03m# re-raise KeyboardInterrupt, to truncate traceback\u001b[39;00m\n\u001b[0;32m   1304\u001b[0m     msg \u001b[38;5;241m=\u001b[39m \u001b[38;5;124m\"\u001b[39m\u001b[38;5;124mInterrupted by user\u001b[39m\u001b[38;5;124m\"\u001b[39m\n\u001b[1;32m-> 1305\u001b[0m     \u001b[38;5;28;01mraise\u001b[39;00m \u001b[38;5;167;01mKeyboardInterrupt\u001b[39;00m(msg) \u001b[38;5;28;01mfrom\u001b[39;00m \u001b[38;5;28;01mNone\u001b[39;00m\n\u001b[0;32m   1306\u001b[0m \u001b[38;5;28;01mexcept\u001b[39;00m \u001b[38;5;167;01mException\u001b[39;00m:\n\u001b[0;32m   1307\u001b[0m     \u001b[38;5;28mself\u001b[39m\u001b[38;5;241m.\u001b[39mlog\u001b[38;5;241m.\u001b[39mwarning(\u001b[38;5;124m\"\u001b[39m\u001b[38;5;124mInvalid Message:\u001b[39m\u001b[38;5;124m\"\u001b[39m, exc_info\u001b[38;5;241m=\u001b[39m\u001b[38;5;28;01mTrue\u001b[39;00m)\n",
      "\u001b[1;31mKeyboardInterrupt\u001b[0m: Interrupted by user"
     ]
    }
   ],
   "source": [
    "''' Write a program to print twin primes less than n(<1000). If two consecutive odd numbers are \n",
    "    both prime then they are known as twin primes '''\n",
    "\n",
    "def is_prime(n):\n",
    "    if n<=1:\n",
    "        return False\n",
    "    i = 2\n",
    "    while i <= n**0.5:\n",
    "        if n % i == 0:\n",
    "            return False\n",
    "        i += 1\n",
    "    else:\n",
    "        return True\n",
    "\n",
    "def print_twin_primes(n):\n",
    "    p = 3\n",
    "    while p < n:\n",
    "        if is_prime(p) and is_prime(p+2):\n",
    "            print(tuple([p,p+2]))\n",
    "        p += 2\n",
    "    \n",
    "if __name__ == \"__main__\":\n",
    "    n = int(input(\"Enter a number:\"))\n",
    "    print_twin_primes(n)"
   ]
  },
  {
   "cell_type": "code",
   "execution_count": null,
   "id": "1eeb33d5",
   "metadata": {},
   "outputs": [
    {
     "name": "stdout",
     "output_type": "stream",
     "text": [
      "2 2 2 7 "
     ]
    }
   ],
   "source": [
    "'''Write a program to find out the prime factors of a number. Example: prime factors of 56 - \n",
    "2, 2, 2, 7'''\n",
    "def is_prime(n):\n",
    "    if n<=1:\n",
    "        return False\n",
    "    i = 2\n",
    "    while i <= n**0.5:\n",
    "        if n % i == 0:\n",
    "            return False\n",
    "        i += 1\n",
    "    else:\n",
    "        return True\n",
    "    \n",
    "def print_prime_factors(n):\n",
    "    for p in range(2,n):\n",
    "        if is_prime(p):\n",
    "            while n % p == 0:\n",
    "                print(p, end=' ')\n",
    "                n = n//p\n",
    "\n",
    "if __name__ == \"__main__\":\n",
    "    n = int(input(\"Enter a number:\"))\n",
    "    print_prime_factors(n)"
   ]
  },
  {
   "cell_type": "code",
   "execution_count": null,
   "id": "71b9028f",
   "metadata": {},
   "outputs": [
    {
     "name": "stdout",
     "output_type": "stream",
     "text": [
      "no of permutations:60\n",
      "no of combinations:10\n"
     ]
    }
   ],
   "source": [
    "'''Write a program to implement these formulae of permutations and combinations. \n",
    "Number of permutations of n objects taken r at a time: p(n, r) = n! / (n-r)!.  Number of \n",
    "combinations of n objects taken r at a time is: c(n, r) = n! / (r!*(n-r)!) = p(n,r) / r!'''\n",
    "def factorial(n):\n",
    "    if n == 0:\n",
    "        return 1\n",
    "    return n * factorial(n-1)\n",
    "\n",
    "def print_no_of_permutations(n,r):\n",
    "    return factorial(n)//factorial(n-r)\n",
    "\n",
    "def print_no_of_combinations(n,r):\n",
    "    return factorial(n)//(factorial(r)*factorial(n-r))\n",
    "\n",
    "if __name__ == \"__main__\":\n",
    "    # n, r = map(int,input(\"Enter two numbers:\").split())\n",
    "    n = int(input(\"Enter a number:\"))\n",
    "    r = int(input(\"Enter a number:\"))\n",
    "    print(f\"no of permutations:{print_no_of_permutations(n,r)}\")\n",
    "    print(f\"no of combinations:{print_no_of_combinations(n,r)}\")\n",
    "    "
   ]
  },
  {
   "cell_type": "code",
   "execution_count": null,
   "id": "4e0ed118",
   "metadata": {},
   "outputs": [
    {
     "name": "stdout",
     "output_type": "stream",
     "text": [
      "1100100\n"
     ]
    }
   ],
   "source": [
    "'''Write a function that converts a decimal number to binary number'''\n",
    "#def decimal_to_binary(n):\n",
    "    #return bin(n).replace(\"0b\", \"\")  by using bin() function in python\n",
    "\n",
    "def decimal_to_binary(n):\n",
    "    s = ''\n",
    "    while n:\n",
    "        s += str(n%2)\n",
    "        n = n//2\n",
    "    return s[::-1] # s[::-1] is reverse of string\n",
    "\n",
    "if __name__ == \"__main__\":\n",
    "    print(decimal_to_binary(100))  # Output: 1100100\n"
   ]
  },
  {
   "cell_type": "code",
   "execution_count": null,
   "id": "e74c0b18",
   "metadata": {},
   "outputs": [
    {
     "name": "stdout",
     "output_type": "stream",
     "text": [
      "153 is Armstrong number\n"
     ]
    }
   ],
   "source": [
    "'''Write a function cubesum() that accepts an integer and returns the sum of the cubes of \n",
    "individual digits of that number. Use this function to make functions PrintArmstrong() and \n",
    "isArmstrong() to print Armstrong numbers and to find whether is an Armstrong number.'''\n",
    "\n",
    "def cubesum(n):\n",
    "    s = 0\n",
    "    while n:\n",
    "        d = n%10\n",
    "        s += d**3\n",
    "        n //= 10\n",
    "    return s\n",
    "\n",
    "def isArmstrong(n):\n",
    "    if n == cubesum(n):\n",
    "        return True\n",
    "    return False\n",
    "\n",
    "def PrintArmstrong(n):\n",
    "    if isArmstrong(n):\n",
    "        print(f\"{n} is Armstrong number\")\n",
    "    else:\n",
    "        print(f\"{n} is not Armstrong number\")\n",
    "        \n",
    "if __name__ == '__main__':\n",
    "    n = int(input('Enter a number:'))\n",
    "    PrintArmstrong(n)"
   ]
  },
  {
   "cell_type": "code",
   "execution_count": null,
   "id": "3e9d0fa1",
   "metadata": {},
   "outputs": [
    {
     "name": "stdout",
     "output_type": "stream",
     "text": [
      "15\n"
     ]
    }
   ],
   "source": [
    "'''Write a function prodDigits() that inputs a number and returns the product of digits of that \n",
    "number.'''\n",
    "def prodDigits(n):\n",
    "    m = 1\n",
    "    while n:\n",
    "        m *= n % 10\n",
    "        n = n//10\n",
    "    return m\n",
    "        \n",
    "if __name__ =='__main__':\n",
    "    n = int(input(\"Enter a number:\")) # n = 153\n",
    "    print(prodDigits(n))        "
   ]
  },
  {
   "cell_type": "code",
   "execution_count": null,
   "id": "6c3c0669",
   "metadata": {},
   "outputs": [
    {
     "name": "stdout",
     "output_type": "stream",
     "text": [
      "6\n"
     ]
    }
   ],
   "source": [
    "''' If all digits of a number n are multiplied by each other repeating with the product, the one \n",
    "digit number obtained at last is called the multiplicative digital root of n. The number of \n",
    "times digits need to be multiplied to reach one digit is called the multiplicative \n",
    "persistance of n. \n",
    "Example: 86 -> 48 -> 32 -> 6 (MDR 6, MPersistence 3)\n",
    "               341 -> 12->2           (MDR 2, MPersistence 2)\n",
    " Using the function prodDigits() of previous exercise write functions MDR() and \n",
    "MPersistence() that input a number and return its multiplicative digital root and \n",
    "multiplicative persistence respectively'''\n",
    "\n",
    "def prodDigits(n):\n",
    "    m = 1\n",
    "    while n:\n",
    "        m *= n % 10\n",
    "        n = n//10\n",
    "    return m\n",
    "\n",
    "def multiplicative_digital_root(n):\n",
    "    while n//10 != 0:\n",
    "        n = prodDigits(n)\n",
    "    else:\n",
    "        return n\n",
    "        \n",
    "if __name__ == '__main__':\n",
    "    n = int(input('Enter a number:')) # n = 481  \n",
    "    print(multiplicative_digital_root(n))"
   ]
  },
  {
   "cell_type": "code",
   "execution_count": null,
   "id": "2603695c",
   "metadata": {},
   "outputs": [
    {
     "name": "stdout",
     "output_type": "stream",
     "text": [
      "1 2 3 4 6 9 12 18 = 55\n"
     ]
    }
   ],
   "source": [
    "'''Write a function sumPdivisors() that finds the sum of proper divisors of a number. Proper \n",
    "divisors of a number are those numbers by which the number is divisible, except the \n",
    "number itself.  For example proper divisors of 36 are 1, 2, 3, 4, 6, 9, 18'''\n",
    "def sumPdivisors(n):\n",
    "    s = 0\n",
    "    i = 1\n",
    "    while i <= n//2:\n",
    "        if n%i == 0:\n",
    "            s += i\n",
    "            print(i, end=' ')\n",
    "        i += 1\n",
    "    return s\n",
    "\n",
    "if __name__ == '__main__':\n",
    "    n = int(input('Enter a number:')) # n = 36\n",
    "    print(f'= {sumPdivisors(n)}') "
   ]
  },
  {
   "cell_type": "code",
   "execution_count": null,
   "id": "58789e98",
   "metadata": {},
   "outputs": [
    {
     "name": "stdout",
     "output_type": "stream",
     "text": [
      "1 is not perfect\n",
      "2 is not perfect\n",
      "3 is not perfect\n",
      "4 is not perfect\n",
      "5 is not perfect\n",
      "6 is a perfect\n",
      "7 is not perfect\n",
      "8 is not perfect\n",
      "9 is not perfect\n",
      "10 is not perfect\n",
      "11 is not perfect\n",
      "12 is not perfect\n",
      "13 is not perfect\n",
      "14 is not perfect\n",
      "15 is not perfect\n",
      "16 is not perfect\n",
      "17 is not perfect\n",
      "18 is not perfect\n",
      "19 is not perfect\n",
      "20 is not perfect\n",
      "21 is not perfect\n",
      "22 is not perfect\n",
      "23 is not perfect\n",
      "24 is not perfect\n",
      "25 is not perfect\n",
      "26 is not perfect\n",
      "27 is not perfect\n",
      "28 is a perfect\n"
     ]
    }
   ],
   "source": [
    "'''A number is called perfect if the sum of proper divisors of that number is equal to the \n",
    "number. For example 28 is perfect number, since 1+2+4+7+14=28. Write a program to \n",
    "print all the perfect numbers in a given range'''\n",
    "def sumPdivisors(n):\n",
    "    s = 0\n",
    "    i = 1\n",
    "    while i <= n//2:\n",
    "        if n%i == 0:\n",
    "            s += i\n",
    "        i += 1\n",
    "    return s\n",
    "\n",
    "def perfect_number(L,R):\n",
    "    while L <= R:\n",
    "        if L == sumPdivisors(L):\n",
    "            print(f\"{L} is a perfect\")\n",
    "        else:\n",
    "            print(f\"{L} is not perfect\")\n",
    "        L += 1\n",
    "        \n",
    "if __name__ == \"__main__\":\n",
    "    L, R = map(int, input(\"Enter a range (L & R): \").split())\n",
    "    perfect_number(L, R)"
   ]
  },
  {
   "cell_type": "code",
   "execution_count": null,
   "id": "35ab9567",
   "metadata": {},
   "outputs": [
    {
     "name": "stdout",
     "output_type": "stream",
     "text": [
      "given numbers are amicable numbers\n"
     ]
    }
   ],
   "source": [
    "''' Two different numbers are called amicable numbers if the sum of the proper divisors of \n",
    "each is equal to the other number. For example 220 and 284 are amicable numbers.\n",
    "Sum of proper divisors of 220 = 1+2+4+5+10+11+20+22+44+55+110 = 284\n",
    " Sum of proper divisors of 284 = 1+2+4+71+142 = 220\n",
    " Write a function to print pairs of amicable numbers in a range'''\n",
    "\n",
    "def sumPdivisors(n):\n",
    "    s = 0\n",
    "    i = 1\n",
    "    while i <= n//2:\n",
    "        if n%i == 0:\n",
    "            s += i\n",
    "        i += 1\n",
    "    return s\n",
    "\n",
    "def amicable_numbers(n,m):\n",
    "    if sumPdivisors(n) == m and sumPdivisors(m) == n:\n",
    "        return \"given numbers are amicable numbers\"\n",
    "    return \"given numbers not amicable numbers\"\n",
    "\n",
    "if __name__ == '__main__':\n",
    "    print(amicable_numbers(220,284))  # Output: yes"
   ]
  },
  {
   "cell_type": "code",
   "execution_count": null,
   "id": "794ed810",
   "metadata": {},
   "outputs": [
    {
     "name": "stdout",
     "output_type": "stream",
     "text": [
      "[1, 3, 5, 7, 9]\n"
     ]
    }
   ],
   "source": [
    "'''Write a program which can filter odd numbers in a list by using filter function'''\n",
    "\n",
    "# sysntax: filter(function, iterable)\n",
    "\n",
    "def CheckOddNumber(n):\n",
    "    if n%2:\n",
    "        return True\n",
    "    return False\n",
    "\n",
    "if __name__ == '__main__':\n",
    "    # list of numbers\n",
    "    l = [1,2,3,4,5,6,7,8,9,10]\n",
    "    odd_numbers = filter(CheckOddNumber,l)\n",
    "    print(list(odd_numbers))"
   ]
  },
  {
   "cell_type": "code",
   "execution_count": null,
   "id": "1580e552",
   "metadata": {},
   "outputs": [
    {
     "name": "stdout",
     "output_type": "stream",
     "text": [
      "original list [1, 2, 3, 4, 5, 6]\n",
      "cubes of the numbers [1, 8, 27, 64, 125, 216]\n"
     ]
    }
   ],
   "source": [
    "'''Write a program which can map() to make a list whose elements are cube of elements in \n",
    "a given list'''\n",
    "\n",
    "# take a list of numbers as input\n",
    "numbers = list(map(int,input('Enter numbers').split()))\n",
    "\n",
    "cubes = list(map(lambda x: x**3, numbers))\n",
    "\n",
    "print(f\"original list {numbers}\")\n",
    "print(f\"cubes of the numbers {cubes}\")"
   ]
  },
  {
   "cell_type": "code",
   "execution_count": null,
   "id": "fd8d665d",
   "metadata": {},
   "outputs": [
    {
     "name": "stdout",
     "output_type": "stream",
     "text": [
      "original list [1, 2, 3, 4, 5, 6, 7, 8, 9, 10]\n",
      "cubes of the even numbers [8, 64, 216, 512, 1000]\n"
     ]
    }
   ],
   "source": [
    "'''Write a program which can map() and filter() to make a list whose elements are cube of \n",
    "even number in a given list'''\n",
    "\n",
    "def CheckEvenNumber(n):\n",
    "    if n%2 == 0:\n",
    "        return True\n",
    "    return False\n",
    "\n",
    "# take a list of numbers as input\n",
    "numbers = list(map(int,input('Enter numbers').split()))\n",
    "\n",
    "cubes = list(map(lambda x: x**3, list(filter(CheckEvenNumber,numbers))))\n",
    "\n",
    "print(f\"original list {numbers}\")\n",
    "print(f\"cubes of the even numbers {cubes}\")"
   ]
  }
 ],
 "metadata": {
  "kernelspec": {
   "display_name": "base",
   "language": "python",
   "name": "python3"
  },
  "language_info": {
   "codemirror_mode": {
    "name": "ipython",
    "version": 3
   },
   "file_extension": ".py",
   "mimetype": "text/x-python",
   "name": "python",
   "nbconvert_exporter": "python",
   "pygments_lexer": "ipython3",
   "version": "3.11.8"
  }
 },
 "nbformat": 4,
 "nbformat_minor": 5
}
