{
 "cells": [
  {
   "cell_type": "code",
   "execution_count": null,
   "id": "57b256de",
   "metadata": {},
   "outputs": [
    {
     "name": "stdout",
     "output_type": "stream",
     "text": [
      "5 * 1 = 5\n",
      "5 * 2 = 10\n",
      "5 * 3 = 15\n",
      "5 * 4 = 20\n",
      "5 * 5 = 25\n",
      "5 * 6 = 30\n",
      "5 * 7 = 35\n",
      "5 * 8 = 40\n",
      "5 * 9 = 45\n",
      "5 * 10 = 50\n"
     ]
    }
   ],
   "source": [
    "'''Write a function that inputs a number and prints the multiplication table of that number'''\n",
    "\n",
    "def print_multiplication_table(n):\n",
    "    for i in range(1,11):\n",
    "        print(f\"{n} * {i} = {n * i}\")\n",
    "        \n",
    "if __name__ == \"__main__\":\n",
    "    n = int(input(\"Enter a number:\"))\n",
    "    print_multiplication_table(n)\n",
    "    "
   ]
  },
  {
   "cell_type": "code",
   "execution_count": 5,
   "id": "5ef52121",
   "metadata": {},
   "outputs": [
    {
     "name": "stdout",
     "output_type": "stream",
     "text": [
      "(3, 5)\n",
      "(5, 7)\n",
      "(11, 13)\n",
      "(17, 19)\n",
      "(29, 31)\n",
      "(41, 43)\n",
      "(59, 61)\n",
      "(71, 73)\n",
      "(101, 103)\n",
      "(107, 109)\n",
      "(137, 139)\n",
      "(149, 151)\n",
      "(179, 181)\n",
      "(191, 193)\n",
      "(197, 199)\n",
      "(227, 229)\n",
      "(239, 241)\n",
      "(269, 271)\n",
      "(281, 283)\n",
      "(311, 313)\n",
      "(347, 349)\n",
      "(419, 421)\n",
      "(431, 433)\n",
      "(461, 463)\n",
      "(521, 523)\n",
      "(569, 571)\n",
      "(599, 601)\n",
      "(617, 619)\n",
      "(641, 643)\n",
      "(659, 661)\n",
      "(809, 811)\n",
      "(821, 823)\n",
      "(827, 829)\n",
      "(857, 859)\n",
      "(881, 883)\n"
     ]
    }
   ],
   "source": [
    "''' Write a program to print twin primes less than n(<1000). If two consecutive odd numbers are \n",
    "    both prime then they are known as twin primes '''\n",
    "\n",
    "def is_prime(n):\n",
    "    if n<=1:\n",
    "        return False\n",
    "    i = 2\n",
    "    while i <= n**0.5:\n",
    "        if n % i == 0:\n",
    "            return False\n",
    "        i += 1\n",
    "    else:\n",
    "        return True\n",
    "\n",
    "def print_twin_primes(n):\n",
    "    p = 3\n",
    "    while p < n:\n",
    "        if is_prime(p) and is_prime(p+2):\n",
    "            print(tuple([p,p+2]))\n",
    "        p += 2\n",
    "    \n",
    "if __name__ == \"__main__\":\n",
    "    n = int(input(\"Enter a number:\"))\n",
    "    print_twin_primes(n)"
   ]
  },
  {
   "cell_type": "code",
   "execution_count": 9,
   "id": "1eeb33d5",
   "metadata": {},
   "outputs": [
    {
     "name": "stdout",
     "output_type": "stream",
     "text": [
      "2 2 2 7 "
     ]
    }
   ],
   "source": [
    "'''Write a program to find out the prime factors of a number. Example: prime factors of 56 - \n",
    "2, 2, 2, 7'''\n",
    "def is_prime(n):\n",
    "    if n<=1:\n",
    "        return False\n",
    "    i = 2\n",
    "    while i <= n**0.5:\n",
    "        if n % i == 0:\n",
    "            return False\n",
    "        i += 1\n",
    "    else:\n",
    "        return True\n",
    "    \n",
    "def print_prime_factors(n):\n",
    "    for p in range(2,n):\n",
    "        if is_prime(p):\n",
    "            while n % p == 0:\n",
    "                print(p, end=' ')\n",
    "                n = n//p\n",
    "\n",
    "if __name__ == \"__main__\":\n",
    "    n = int(input(\"Enter a number:\"))\n",
    "    print_prime_factors(n)"
   ]
  },
  {
   "cell_type": "code",
   "execution_count": 3,
   "id": "71b9028f",
   "metadata": {},
   "outputs": [
    {
     "name": "stdout",
     "output_type": "stream",
     "text": [
      "no of permutations:60\n",
      "no of combinations:10\n"
     ]
    }
   ],
   "source": [
    "'''Write a program to implement these formulae of permutations and combinations. \n",
    "Number of permutations of n objects taken r at a time: p(n, r) = n! / (n-r)!.  Number of \n",
    "combinations of n objects taken r at a time is: c(n, r) = n! / (r!*(n-r)!) = p(n,r) / r!'''\n",
    "def factorial(n):\n",
    "    if n == 0:\n",
    "        return 1\n",
    "    return n * factorial(n-1)\n",
    "\n",
    "def print_no_of_permutations(n,r):\n",
    "    return factorial(n)//factorial(n-r)\n",
    "\n",
    "def print_no_of_combinations(n,r):\n",
    "    return factorial(n)//(factorial(r)*factorial(n-r))\n",
    "\n",
    "if __name__ == \"__main__\":\n",
    "    # n, r = map(int,input(\"Enter two numbers:\").split())\n",
    "    n = int(input(\"Enter a number:\"))\n",
    "    r = int(input(\"Enter a number:\"))\n",
    "    print(f\"no of permutations:{print_no_of_permutations(n,r)}\")\n",
    "    print(f\"no of combinations:{print_no_of_combinations(n,r)}\")\n",
    "    "
   ]
  },
  {
   "cell_type": "code",
   "execution_count": null,
   "id": "4e0ed118",
   "metadata": {},
   "outputs": [
    {
     "name": "stdout",
     "output_type": "stream",
     "text": [
      "1100100\n"
     ]
    }
   ],
   "source": [
    "'''Write a function that converts a decimal number to binary number'''\n",
    "#def decimal_to_binary(n):\n",
    "    #return bin(n).replace(\"0b\", \"\")  by using bin() function in python\n",
    "\n",
    "def decimal_to_binary(n):\n",
    "    s = ''\n",
    "    while n:\n",
    "        s += str(n%2)\n",
    "        n = n//2\n",
    "    return s[::-1] # s[::-1] is reverse of string\n",
    "\n",
    "if __name__ == \"__main__\":\n",
    "    print(decimal_to_binary(100))  # Output: 1100100\n"
   ]
  },
  {
   "cell_type": "code",
   "execution_count": 6,
   "id": "e74c0b18",
   "metadata": {},
   "outputs": [
    {
     "name": "stdout",
     "output_type": "stream",
     "text": [
      "153 is Armstrong number\n"
     ]
    }
   ],
   "source": [
    "'''Write a function cubesum() that accepts an integer and returns the sum of the cubes of \n",
    "individual digits of that number. Use this function to make functions PrintArmstrong() and \n",
    "isArmstrong() to print Armstrong numbers and to find whether is an Armstrong number.'''\n",
    "\n",
    "def cubesum(n):\n",
    "    s = 0\n",
    "    while n:\n",
    "        d = n%10\n",
    "        s += d**3\n",
    "        n //= 10\n",
    "    return s\n",
    "\n",
    "def isArmstrong(n):\n",
    "    if n == cubesum(n):\n",
    "        return True\n",
    "    return False\n",
    "\n",
    "def PrintArmstrong(n):\n",
    "    if isArmstrong(n):\n",
    "        print(f\"{n} is Armstrong number\")\n",
    "    else:\n",
    "        print(f\"{n} is not Armstrong number\")\n",
    "        \n",
    "if __name__ == '__main__':\n",
    "    n = int(input('Enter a number:'))\n",
    "    PrintArmstrong(n)"
   ]
  },
  {
   "cell_type": "code",
   "execution_count": null,
   "id": "3e9d0fa1",
   "metadata": {},
   "outputs": [
    {
     "name": "stdout",
     "output_type": "stream",
     "text": [
      "15\n"
     ]
    }
   ],
   "source": [
    "'''Write a function prodDigits() that inputs a number and returns the product of digits of that \n",
    "number.'''\n",
    "def prodDigits(n):\n",
    "    m = 1\n",
    "    while n:\n",
    "        m *= n % 10\n",
    "        n = n//10\n",
    "    return m\n",
    "        \n",
    "if __name__ =='__main__':\n",
    "    n = int(input(\"Enter a number:\")) # n = 153\n",
    "    print(prodDigits(n))        "
   ]
  },
  {
   "cell_type": "code",
   "execution_count": null,
   "id": "6c3c0669",
   "metadata": {},
   "outputs": [
    {
     "name": "stdout",
     "output_type": "stream",
     "text": [
      "6\n"
     ]
    }
   ],
   "source": [
    "''' If all digits of a number n are multiplied by each other repeating with the product, the one \n",
    "digit number obtained at last is called the multiplicative digital root of n. The number of \n",
    "times digits need to be multiplied to reach one digit is called the multiplicative \n",
    "persistance of n. \n",
    "Example: 86 -> 48 -> 32 -> 6 (MDR 6, MPersistence 3)\n",
    "               341 -> 12->2           (MDR 2, MPersistence 2)\n",
    " Using the function prodDigits() of previous exercise write functions MDR() and \n",
    "MPersistence() that input a number and return its multiplicative digital root and \n",
    "multiplicative persistence respectively'''\n",
    "\n",
    "def prodDigits(n):\n",
    "    m = 1\n",
    "    while n:\n",
    "        m *= n % 10\n",
    "        n = n//10\n",
    "    return m\n",
    "\n",
    "def multiplicative_digital_root(n):\n",
    "    while n//10 != 0:\n",
    "        n = prodDigits(n)\n",
    "    else:\n",
    "        return n\n",
    "        \n",
    "if __name__ == '__main__':\n",
    "    n = int(input('Enter a number:')) # n = 481  \n",
    "    print(multiplicative_digital_root(n))"
   ]
  },
  {
   "cell_type": "code",
   "execution_count": null,
   "id": "2603695c",
   "metadata": {},
   "outputs": [
    {
     "name": "stdout",
     "output_type": "stream",
     "text": [
      "1 2 3 4 6 9 12 18 = 55\n"
     ]
    }
   ],
   "source": [
    "'''Write a function sumPdivisors() that finds the sum of proper divisors of a number. Proper \n",
    "divisors of a number are those numbers by which the number is divisible, except the \n",
    "number itself.  For example proper divisors of 36 are 1, 2, 3, 4, 6, 9, 18'''\n",
    "def sumPdivisors(n):\n",
    "    s = 0\n",
    "    i = 1\n",
    "    while i <= n//2:\n",
    "        if n%i == 0:\n",
    "            s += i\n",
    "            print(i, end=' ')\n",
    "        i += 1\n",
    "    return s\n",
    "\n",
    "if __name__ == '__main__':\n",
    "    n = int(input('Enter a number:')) # n = 36\n",
    "    print(f'= {sumPdivisors(n)}') "
   ]
  },
  {
   "cell_type": "code",
   "execution_count": null,
   "id": "58789e98",
   "metadata": {},
   "outputs": [],
   "source": []
  },
  {
   "cell_type": "code",
   "execution_count": null,
   "id": "35ab9567",
   "metadata": {},
   "outputs": [],
   "source": []
  }
 ],
 "metadata": {
  "kernelspec": {
   "display_name": "base",
   "language": "python",
   "name": "python3"
  },
  "language_info": {
   "codemirror_mode": {
    "name": "ipython",
    "version": 3
   },
   "file_extension": ".py",
   "mimetype": "text/x-python",
   "name": "python",
   "nbconvert_exporter": "python",
   "pygments_lexer": "ipython3",
   "version": "3.11.8"
  }
 },
 "nbformat": 4,
 "nbformat_minor": 5
}
